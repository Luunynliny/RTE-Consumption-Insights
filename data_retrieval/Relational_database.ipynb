{
 "cells": [
  {
   "cell_type": "code",
   "execution_count": 9,
   "metadata": {},
   "outputs": [],
   "source": [
    "from forecast import get_forecast_data\n",
    "from consumption import get_consumption_data\n",
    "from production import get_production_data"
   ]
  },
  {
   "cell_type": "code",
   "execution_count": 11,
   "metadata": {},
   "outputs": [],
   "source": [
    "start_date = \"2019-01-01T00:00:00+01:00\"\n",
    "end_date = \"2024-01-01T00:00:00+01:00\"\n",
    "\n",
    "df_forecast = get_forecast_data(start_date, end_date)\n",
    "df_consumption = get_consumption_data(start_date, end_date)\n",
    "df_production = get_production_data(start_date, end_date)"
   ]
  },
  {
   "cell_type": "code",
   "execution_count": null,
   "metadata": {},
   "outputs": [],
   "source": [
    "# !pip install pandas sqlalchemy mysql-connector-python\n",
    "# !pip install pymysql"
   ]
  },
  {
   "cell_type": "code",
   "execution_count": 10,
   "metadata": {},
   "outputs": [
    {
     "name": "stdout",
     "output_type": "stream",
     "text": [
      "consumption\n",
      "consumption_and_forecast_5years\n",
      "power_consumption\n",
      "power_consumption_2019_2024\n",
      "power_consumption_5years\n",
      "production_consumption_and_forecast_5years\n",
      "production_type\n",
      "production_type_2019_2024\n",
      "production_type_5years\n",
      "test\n",
      "weekly_forecast\n",
      "weekly_forecast_2019_2024\n",
      "weekly_forecast_5years\n"
     ]
    }
   ],
   "source": [
    "from sqlalchemy import inspect, create_engine\n",
    "\n",
    "engine = create_engine(\"mysql+pymysql://{user}:{pw}@{host}/{db}\"\n",
    "                       .format(user=\"admin\",\n",
    "                               pw=\"admin2024\",\n",
    "                               host=\"mysql-database.c9cwko0aaypr.eu-central-1.rds.amazonaws.com\",\n",
    "                               db=\"rte\"))\n",
    "\n",
    "# Use the 'inspect' function to get the inspector for the engine\n",
    "inspector = inspect(engine)\n",
    "\n",
    "# Use the 'get_table_names' method to get the list of table names\n",
    "table_names = inspector.get_table_names()\n",
    "\n",
    "# Print the table names\n",
    "for table_name in table_names:\n",
    "    print(table_name)"
   ]
  },
  {
   "cell_type": "code",
   "execution_count": 12,
   "metadata": {},
   "outputs": [
    {
     "data": {
      "text/plain": [
       "522616"
      ]
     },
     "execution_count": 12,
     "metadata": {},
     "output_type": "execute_result"
    }
   ],
   "source": [
    "from sqlalchemy import create_engine, Table, MetaData\n",
    "from sqlalchemy.sql import text\n",
    "import pandas as pd\n",
    "\n",
    "# Assuming df1, df2, df3 are your dataframes\n",
    "# Replace user, password, host, dbname with your actual values\n",
    "engine = create_engine(\"mysql+pymysql://{user}:{pw}@{host}/{db}\"\n",
    "                       .format(user=\"admin\",\n",
    "                               pw=\"admin2024\",\n",
    "                               host=\"mysql-database.c9cwko0aaypr.eu-central-1.rds.amazonaws.com\",\n",
    "                               db=\"rte\"))\n",
    "\n",
    "# Upload dataframes to MySQL\n",
    "df_forecast.to_sql('forecast', con=engine, if_exists='replace', index=False)\n",
    "df_consumption.to_sql('consumption', con=engine, if_exists='replace', index=False)\n",
    "df_production.to_sql('production', con=engine, if_exists='replace', index=False)\n"
   ]
  },
  {
   "cell_type": "code",
   "execution_count": null,
   "metadata": {},
   "outputs": [],
   "source": [
    "\n",
    "# Define primary keys and relations\n",
    "metadata = MetaData()\n",
    "\n",
    "table1 = Table('table1', metadata, autoload_with=engine)\n",
    "table2 = Table('table2', metadata, autoload_with=engine)\n",
    "table3 = Table('table3', metadata, autoload_with=engine)\n",
    "\n",
    "# Assuming 'id' is the primary key for table1 and table2, and 'table1_id' and 'table2_id' are the foreign keys in table3\n",
    "with engine.connect() as connection:\n",
    "    connection.execute(text(\"ALTER TABLE table1 ADD PRIMARY KEY (id);\"))\n",
    "    connection.execute(text(\"ALTER TABLE table2 ADD PRIMARY KEY (id);\"))\n",
    "    connection.execute(text(\"ALTER TABLE table3 ADD FOREIGN KEY (table1_id) REFERENCES table1(id);\"))\n",
    "    connection.execute(text(\"ALTER TABLE table3 ADD FOREIGN KEY (table2_id) REFERENCES table2(id);\"))"
   ]
  },
  {
   "cell_type": "code",
   "execution_count": null,
   "metadata": {},
   "outputs": [],
   "source": [
    "with engine.connect() as connection:\n",
    "    connection.execute(text(\"ALTER TABLE table_name ADD PRIMARY KEY (column1, column2);\"))"
   ]
  },
  {
   "cell_type": "code",
   "execution_count": null,
   "metadata": {},
   "outputs": [],
   "source": [
    "with engine.connect() as connection:\n",
    "    # Assuming 'consumption_start_date', 'production_start_date', 'forecast_start_date' are the primary keys\n",
    "    connection.execute(text(\"ALTER TABLE consumption ADD PRIMARY KEY (consumption_start_date);\"))\n",
    "    connection.execute(text(\"ALTER TABLE production ADD PRIMARY KEY (production_start_date);\"))\n",
    "    connection.execute(text(\"ALTER TABLE forecast ADD PRIMARY KEY (forecast_start_date);\"))\n",
    "\n",
    "    # Add foreign keys in 'production' and 'forecast' that reference 'consumption'\n",
    "    connection.execute(text(\"ALTER TABLE production ADD FOREIGN KEY (consumption_start_date) REFERENCES consumption(consumption_start_date);\"))\n",
    "    connection.execute(text(\"ALTER TABLE forecast ADD FOREIGN KEY (consumption_start_date) REFERENCES consumption(consumption_start_date);\"))"
   ]
  },
  {
   "cell_type": "code",
   "execution_count": null,
   "metadata": {},
   "outputs": [],
   "source": [
    "# Upload dataframes to MySQL\n",
    "production.to_sql('production', con=engine, if_exists='replace', index=False)\n",
    "consumption.to_sql('consumption', con=engine, if_exists='replace', index=False)\n",
    "forecast.to_sql('forecast', con=engine, if_exists='replace', index=False)\n",
    "\n",
    "# Define primary keys and relations\n",
    "metadata = MetaData()\n",
    "\n",
    "production = Table('production', metadata, autoload_with=engine)\n",
    "consumption = Table('consumption', metadata, autoload_with=engine)\n",
    "forecast = Table('forecast', metadata, autoload_with=engine)\n",
    "\n",
    "# Assuming 'consumption_start_date' is the primary key for consumption, \n",
    "# and 'production_start_date' and 'forecast_start_date' are the foreign keys in production and forecast respectively\n",
    "with engine.connect() as connection:\n",
    "    connection.execute(text(\"ALTER TABLE consumption ADD PRIMARY KEY (consumption_start_date);\"))\n",
    "    connection.execute(text(\"ALTER TABLE production ADD FOREIGN KEY (production_start_date) REFERENCES consumption(consumption_start_date);\"))\n",
    "    connection.execute(text(\"ALTER TABLE forecast ADD FOREIGN KEY (forecast_start_date) REFERENCES consumption(consumption_start_date);\"))"
   ]
  }
 ],
 "metadata": {
  "kernelspec": {
   "display_name": "Python 3",
   "language": "python",
   "name": "python3"
  },
  "language_info": {
   "codemirror_mode": {
    "name": "ipython",
    "version": 3
   },
   "file_extension": ".py",
   "mimetype": "text/x-python",
   "name": "python",
   "nbconvert_exporter": "python",
   "pygments_lexer": "ipython3",
   "version": "3.11.7"
  }
 },
 "nbformat": 4,
 "nbformat_minor": 2
}
